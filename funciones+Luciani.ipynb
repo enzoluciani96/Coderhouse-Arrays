{
 "cells": [
  {
   "cell_type": "code",
   "execution_count": 14,
   "id": "eda3c414",
   "metadata": {},
   "outputs": [
    {
     "name": "stdout",
     "output_type": "stream",
     "text": [
      "Factorial of 5 is 120\n"
     ]
    }
   ],
   "source": [
    "def factorial(num):\n",
    "    if num < 0:\n",
    "        print(\"Factorial of negative number does not exist\")\n",
    "        \n",
    "    elif num==0:\n",
    "        return 1\n",
    "    \n",
    "    else:\n",
    "        fact = 1\n",
    "        while (num > 1):\n",
    "            fact *= num\n",
    "            num -= 1\n",
    "        return fact\n",
    "\n",
    "num = 5;\n",
    "print(\"Factorial of\", num, \"is\", factorial(num))"
   ]
  },
  {
   "cell_type": "code",
   "execution_count": 15,
   "id": "0bf0927f",
   "metadata": {},
   "outputs": [
    {
     "name": "stdout",
     "output_type": "stream",
     "text": [
      "Factorial of 8 is 40320\n"
     ]
    }
   ],
   "source": [
    "num = 8;\n",
    "print(\"Factorial of\", num, \"is\", factorial(num))"
   ]
  },
  {
   "cell_type": "code",
   "execution_count": 16,
   "id": "e9c47750",
   "metadata": {},
   "outputs": [
    {
     "name": "stdout",
     "output_type": "stream",
     "text": [
      "Factorial of 13 is 6227020800\n"
     ]
    }
   ],
   "source": [
    "num = 13;\n",
    "print(\"Factorial of\", num, \"is\", factorial(num))"
   ]
  },
  {
   "cell_type": "code",
   "execution_count": 17,
   "id": "ac0a1910",
   "metadata": {},
   "outputs": [
    {
     "name": "stdout",
     "output_type": "stream",
     "text": [
      "Factorial of 3 is 6\n"
     ]
    }
   ],
   "source": [
    "num = 3;\n",
    "print(\"Factorial of\", num, \"is\", factorial(num))"
   ]
  },
  {
   "cell_type": "code",
   "execution_count": 36,
   "id": "f3d74c12",
   "metadata": {},
   "outputs": [
    {
     "name": "stdout",
     "output_type": "stream",
     "text": [
      "The sum of x+y is: 14\n"
     ]
    }
   ],
   "source": [
    "def sum (x,y):\n",
    "    if y > x:\n",
    "        z = x+y\n",
    "        \n",
    "        print(\"The sum of x+y is:\",z) \n",
    "    \n",
    "    else:\n",
    "        return \"The number 'y' should be bigger than 'x'\"\n",
    "    \n",
    "def print_number(x,y):\n",
    "    if y>x:\n",
    "        return \"The sum of\", x,\"and\",y,\"is\",sum(x,y)\n",
    "        \n",
    "    else:\n",
    "        return \"The number 'y' should be bigger than 'x'\"\n",
    "        \n",
    "    \n",
    "    \n",
    "x=5;\n",
    "y= 9;\n",
    "sum(x,y)"
   ]
  },
  {
   "cell_type": "code",
   "execution_count": 38,
   "id": "3c857e29",
   "metadata": {},
   "outputs": [
    {
     "data": {
      "text/plain": [
       "\"The number 'y' should be bigger than 'x'\""
      ]
     },
     "execution_count": 38,
     "metadata": {},
     "output_type": "execute_result"
    }
   ],
   "source": [
    "x=5;\n",
    "y=3;\n",
    "sum(x,y)"
   ]
  },
  {
   "cell_type": "code",
   "execution_count": null,
   "id": "d3afa164",
   "metadata": {},
   "outputs": [],
   "source": []
  }
 ],
 "metadata": {
  "kernelspec": {
   "display_name": "Python 3 (ipykernel)",
   "language": "python",
   "name": "python3"
  },
  "language_info": {
   "codemirror_mode": {
    "name": "ipython",
    "version": 3
   },
   "file_extension": ".py",
   "mimetype": "text/x-python",
   "name": "python",
   "nbconvert_exporter": "python",
   "pygments_lexer": "ipython3",
   "version": "3.9.7"
  }
 },
 "nbformat": 4,
 "nbformat_minor": 5
}
