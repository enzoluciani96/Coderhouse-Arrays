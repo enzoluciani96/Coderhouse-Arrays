{
 "cells": [
  {
   "cell_type": "code",
   "execution_count": 3,
   "id": "f41a746e",
   "metadata": {},
   "outputs": [],
   "source": [
    "import numpy as np\n",
    "import statistics\n",
    "import scipy.special\n",
    "import pandas as pd"
   ]
  },
  {
   "cell_type": "code",
   "execution_count": 4,
   "id": "4b6f31e5",
   "metadata": {},
   "outputs": [
    {
     "data": {
      "text/plain": [
       "array([2, 3, 5, 9, 3, 1, 5, 6, 2, 2, 8, 8, 9, 7, 8, 2, 2, 8, 2, 9, 3, 5,\n",
       "       2, 4, 1, 6, 5, 4, 8, 1, 6, 9, 9, 1, 5, 1, 6, 6, 1, 9, 4, 5, 7, 4,\n",
       "       4, 2, 6, 8, 9, 2, 8, 5, 5, 2, 6, 6, 4, 4, 1, 7, 9, 2, 3, 2, 1, 2,\n",
       "       6, 9, 2, 9, 8, 9, 7, 4, 4, 7, 8, 6, 4, 2, 3, 3, 4, 9, 6, 1, 5, 1,\n",
       "       2, 5, 8, 1, 1, 8, 3, 3, 7, 3, 4, 6])"
      ]
     },
     "execution_count": 4,
     "metadata": {},
     "output_type": "execute_result"
    }
   ],
   "source": [
    "np_array = np.random.randint(1,10,(100))\n",
    "np_array"
   ]
  },
  {
   "cell_type": "code",
   "execution_count": 5,
   "id": "dc10ebb3",
   "metadata": {},
   "outputs": [
    {
     "data": {
      "text/plain": [
       "5.0"
      ]
     },
     "execution_count": 5,
     "metadata": {},
     "output_type": "execute_result"
    }
   ],
   "source": [
    "np.median(np_array)"
   ]
  },
  {
   "cell_type": "markdown",
   "id": "d60ad3c2",
   "metadata": {},
   "source": [
    "Aprovecho para incluir el factorial del array creado anteriormente"
   ]
  },
  {
   "cell_type": "code",
   "execution_count": 6,
   "id": "9fbbc696",
   "metadata": {},
   "outputs": [
    {
     "data": {
      "text/plain": [
       "array([2.0000e+00, 6.0000e+00, 1.2000e+02, 3.6288e+05, 6.0000e+00,\n",
       "       1.0000e+00, 1.2000e+02, 7.2000e+02, 2.0000e+00, 2.0000e+00,\n",
       "       4.0320e+04, 4.0320e+04, 3.6288e+05, 5.0400e+03, 4.0320e+04,\n",
       "       2.0000e+00, 2.0000e+00, 4.0320e+04, 2.0000e+00, 3.6288e+05,\n",
       "       6.0000e+00, 1.2000e+02, 2.0000e+00, 2.4000e+01, 1.0000e+00,\n",
       "       7.2000e+02, 1.2000e+02, 2.4000e+01, 4.0320e+04, 1.0000e+00,\n",
       "       7.2000e+02, 3.6288e+05, 3.6288e+05, 1.0000e+00, 1.2000e+02,\n",
       "       1.0000e+00, 7.2000e+02, 7.2000e+02, 1.0000e+00, 3.6288e+05,\n",
       "       2.4000e+01, 1.2000e+02, 5.0400e+03, 2.4000e+01, 2.4000e+01,\n",
       "       2.0000e+00, 7.2000e+02, 4.0320e+04, 3.6288e+05, 2.0000e+00,\n",
       "       4.0320e+04, 1.2000e+02, 1.2000e+02, 2.0000e+00, 7.2000e+02,\n",
       "       7.2000e+02, 2.4000e+01, 2.4000e+01, 1.0000e+00, 5.0400e+03,\n",
       "       3.6288e+05, 2.0000e+00, 6.0000e+00, 2.0000e+00, 1.0000e+00,\n",
       "       2.0000e+00, 7.2000e+02, 3.6288e+05, 2.0000e+00, 3.6288e+05,\n",
       "       4.0320e+04, 3.6288e+05, 5.0400e+03, 2.4000e+01, 2.4000e+01,\n",
       "       5.0400e+03, 4.0320e+04, 7.2000e+02, 2.4000e+01, 2.0000e+00,\n",
       "       6.0000e+00, 6.0000e+00, 2.4000e+01, 3.6288e+05, 7.2000e+02,\n",
       "       1.0000e+00, 1.2000e+02, 1.0000e+00, 2.0000e+00, 1.2000e+02,\n",
       "       4.0320e+04, 1.0000e+00, 1.0000e+00, 4.0320e+04, 6.0000e+00,\n",
       "       6.0000e+00, 5.0400e+03, 6.0000e+00, 2.4000e+01, 7.2000e+02])"
      ]
     },
     "execution_count": 6,
     "metadata": {},
     "output_type": "execute_result"
    }
   ],
   "source": [
    "scipy.special.factorial(np_array)"
   ]
  },
  {
   "cell_type": "markdown",
   "id": "9046cbe5",
   "metadata": {},
   "source": [
    "Calculando el factorial del numero ubicado en la posicion 3del arreglo"
   ]
  },
  {
   "cell_type": "code",
   "execution_count": 9,
   "id": "52c05bc6",
   "metadata": {},
   "outputs": [
    {
     "data": {
      "text/plain": [
       "9"
      ]
     },
     "execution_count": 9,
     "metadata": {},
     "output_type": "execute_result"
    }
   ],
   "source": [
    "np_array[3]"
   ]
  },
  {
   "cell_type": "code",
   "execution_count": 11,
   "id": "3828099b",
   "metadata": {},
   "outputs": [
    {
     "data": {
      "text/plain": [
       "362880.0"
      ]
     },
     "execution_count": 11,
     "metadata": {},
     "output_type": "execute_result"
    }
   ],
   "source": [
    "scipy.special.factorial(np_array[3])"
   ]
  },
  {
   "cell_type": "markdown",
   "id": "945b8038",
   "metadata": {},
   "source": [
    "Calculando el factorial de un numero generado aleatoriamente"
   ]
  },
  {
   "cell_type": "code",
   "execution_count": 13,
   "id": "7bc96742",
   "metadata": {},
   "outputs": [
    {
     "name": "stdout",
     "output_type": "stream",
     "text": [
      "11\n",
      "39916800\n"
     ]
    }
   ],
   "source": [
    "random_int = np.random.randint(100)\n",
    "print(random_int)\n",
    "print(np.math.factorial(random_int))"
   ]
  },
  {
   "cell_type": "markdown",
   "id": "928d90b7",
   "metadata": {},
   "source": [
    "Realizando la suma de los elementos contenidos por el arreglo creado anteriormente"
   ]
  },
  {
   "cell_type": "code",
   "execution_count": 14,
   "id": "17dc65f1",
   "metadata": {},
   "outputs": [
    {
     "data": {
      "text/plain": [
       "479"
      ]
     },
     "execution_count": 14,
     "metadata": {},
     "output_type": "execute_result"
    }
   ],
   "source": [
    "np.sum(np_array)"
   ]
  },
  {
   "cell_type": "markdown",
   "id": "fd1b28d1",
   "metadata": {},
   "source": [
    "Realizando la suma de una serie de numeros creada aleatoriamente"
   ]
  },
  {
   "cell_type": "code",
   "execution_count": 16,
   "id": "71cf501e",
   "metadata": {},
   "outputs": [
    {
     "data": {
      "text/plain": [
       "49"
      ]
     },
     "execution_count": 16,
     "metadata": {},
     "output_type": "execute_result"
    }
   ],
   "source": [
    "np.sum(np.random.randint(1,10,(10)))"
   ]
  },
  {
   "cell_type": "code",
   "execution_count": 60,
   "id": "8b99bc60",
   "metadata": {},
   "outputs": [
    {
     "data": {
      "text/html": [
       "<div>\n",
       "<style scoped>\n",
       "    .dataframe tbody tr th:only-of-type {\n",
       "        vertical-align: middle;\n",
       "    }\n",
       "\n",
       "    .dataframe tbody tr th {\n",
       "        vertical-align: top;\n",
       "    }\n",
       "\n",
       "    .dataframe thead th {\n",
       "        text-align: right;\n",
       "    }\n",
       "</style>\n",
       "<table border=\"1\" class=\"dataframe\">\n",
       "  <thead>\n",
       "    <tr style=\"text-align: right;\">\n",
       "      <th></th>\n",
       "      <th>Salario mensual NETO (en tu moneda local)</th>\n",
       "    </tr>\n",
       "  </thead>\n",
       "  <tbody>\n",
       "    <tr>\n",
       "      <th>0</th>\n",
       "      <td>43000</td>\n",
       "    </tr>\n",
       "    <tr>\n",
       "      <th>1</th>\n",
       "      <td>63000</td>\n",
       "    </tr>\n",
       "    <tr>\n",
       "      <th>2</th>\n",
       "      <td>127000</td>\n",
       "    </tr>\n",
       "    <tr>\n",
       "      <th>3</th>\n",
       "      <td>102000</td>\n",
       "    </tr>\n",
       "    <tr>\n",
       "      <th>4</th>\n",
       "      <td>106000</td>\n",
       "    </tr>\n",
       "  </tbody>\n",
       "</table>\n",
       "</div>"
      ],
      "text/plain": [
       "  Salario mensual NETO (en tu moneda local)\n",
       "0                                     43000\n",
       "1                                     63000\n",
       "2                                    127000\n",
       "3                                    102000\n",
       "4                                    106000"
      ]
     },
     "execution_count": 60,
     "metadata": {},
     "output_type": "execute_result"
    }
   ],
   "source": [
    "csv = pd.read_csv('Salarios Openqube - 2020.02.csv',usecols = [\"Salario mensual NETO (en tu moneda local)\"])\n",
    "csv"
   ]
  },
  {
   "cell_type": "code",
   "execution_count": 66,
   "id": "813ebd90",
   "metadata": {},
   "outputs": [
    {
     "data": {
      "text/plain": [
       "102000"
      ]
     },
     "execution_count": 66,
     "metadata": {},
     "output_type": "execute_result"
    }
   ],
   "source": [
    "int(csv.median())"
   ]
  },
  {
   "cell_type": "code",
   "execution_count": 69,
   "id": "4751063f",
   "metadata": {},
   "outputs": [
    {
     "data": {
      "text/plain": [
       "Salario mensual NETO (en tu moneda local)    8.600126e+26\n",
       "dtype: float64"
      ]
     },
     "execution_count": 69,
     "metadata": {},
     "output_type": "execute_result"
    }
   ],
   "source": [
    "csv.mean()"
   ]
  },
  {
   "cell_type": "markdown",
   "id": "01ae167e",
   "metadata": {},
   "source": [
    "Calculando el valor de la media me retorna un valor con notacion cientifica, como puedo hacer para que se vea normal, ya que si le agrego int() adelante me regresa un numero enorme"
   ]
  },
  {
   "cell_type": "code",
   "execution_count": null,
   "id": "45910880",
   "metadata": {},
   "outputs": [],
   "source": []
  }
 ],
 "metadata": {
  "kernelspec": {
   "display_name": "Python 3 (ipykernel)",
   "language": "python",
   "name": "python3"
  },
  "language_info": {
   "codemirror_mode": {
    "name": "ipython",
    "version": 3
   },
   "file_extension": ".py",
   "mimetype": "text/x-python",
   "name": "python",
   "nbconvert_exporter": "python",
   "pygments_lexer": "ipython3",
   "version": "3.9.7"
  }
 },
 "nbformat": 4,
 "nbformat_minor": 5
}
